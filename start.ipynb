{
 "cells": [
  {
   "cell_type": "code",
   "execution_count": 1,
   "metadata": {},
   "outputs": [],
   "source": [
    "import os, glob, re\n",
    "from pathlib import Path\n",
    "from dotenv import load_dotenv\n",
    "from string import Template\n",
    "from subprocess import Popen, PIPE\n",
    "\n",
    "load_dotenv();\n",
    "assert(os.getenv(\"PAT\"))"
   ]
  },
  {
   "cell_type": "code",
   "execution_count": 9,
   "metadata": {},
   "outputs": [
    {
     "name": "stdout",
     "output_type": "stream",
     "text": [
      "['j-autoworker-0                             0/1           34s        34s', 'j-autoworker-1                             0/1           33s        33s', 'j-autoworker-2                             0/1           33s        33s', 'j-autoworker-3                             0/1           32s        32s']\n",
      "Number of active jobs: 0\n"
     ]
    }
   ],
   "source": [
    "def count_active_jobs():\n",
    "  cmd = \"kubectl get jobs\"\n",
    "  stream = os.popen(cmd)\n",
    "  output = stream.read()\n",
    "  splits = filter(lambda x : re.search(\"^j-autoworker-\", x), output.split(\"\\n\"))\n",
    "  print(list(splits))\n",
    "  return len(list(splits))\n",
    "def get_active_jobs():\n",
    "  cmd = \"kubectl get jobs\"\n",
    "  stream = os.popen(cmd)\n",
    "  output = stream.read()\n",
    "  splits = filter(lambda x : re.search(\"^j-autoworker-\", x), output.split(\"\\n\"))\n",
    "  return [q.split()[0] for q in list(splits)]\n",
    "print(f\"Number of active jobs: {count_active_jobs()}\")"
   ]
  },
  {
   "cell_type": "code",
   "execution_count": 15,
   "metadata": {},
   "outputs": [],
   "source": [
    "def create_job(yaml_data):\n",
    "  p = Popen([\"kubectl\", \"apply\", \"-f\", \"-\"], shell=True, stdout=PIPE, stderr=PIPE, stdin=PIPE)\n",
    "  output = p.communicate(input=bytes(yaml_data, encoding=\"utf-8\"))\n",
    "  output = [line.decode() for line in output if line]\n",
    "  return output\n",
    "def kill_job(name):\n",
    "  p = Popen([\"kubectl\", \"delete\", \"job\", name], shell=True, stdout=PIPE, stderr=PIPE, stdin=PIPE)\n",
    "  output = p.communicate(input=bytes(\"\", encoding=\"utf-8\"))\n",
    "  output = [line.decode() for line in output if line]\n",
    "  return output"
   ]
  },
  {
   "cell_type": "code",
   "execution_count": 21,
   "metadata": {},
   "outputs": [
    {
     "name": "stdout",
     "output_type": "stream",
     "text": [
      "===py_template.yml===\n",
      "\t ['job.batch/j-autoworker-0 created\\n']\n",
      "===py_template.yml===\n",
      "\t ['job.batch/j-autoworker-1 created\\n']\n",
      "===py_template.yml===\n",
      "\t ['job.batch/j-autoworker-2 created\\n']\n",
      "===py_template.yml===\n",
      "\t ['job.batch/j-autoworker-3 created\\n']\n"
     ]
    }
   ],
   "source": [
    "configs_path = \"smart4.5/configs/clip_2/*\"\n",
    "template_path = \"py_template.yml\"\n",
    "pat = os.getenv(\"PAT\")\n",
    "dry_run = False\n",
    "\n",
    "for i, path in enumerate(glob.glob(configs_path)):\n",
    "  path = Path(path)\n",
    "  path_small = Path(*path.parts[1:])\n",
    "  if dry_run:\n",
    "    print(\"dry_run\", path)\n",
    "  else:\n",
    "    with open(template_path, \"r\") as f:\n",
    "      contents = f.read()\n",
    "      template = Template(contents)\n",
    "      template = template.safe_substitute(pat=pat, config=path_small.as_posix(), i=i)\n",
    "      output = create_job(template)\n",
    "      print(f\"==={template_path}===\")\n",
    "      # print(template)\n",
    "      print(\"\\t\", output)\n",
    "      "
   ]
  },
  {
   "cell_type": "code",
   "execution_count": 22,
   "metadata": {},
   "outputs": [],
   "source": [
    "jobs = get_active_jobs()\n",
    "print(jobs)\n",
    "dry_run = False\n",
    "for job in jobs:\n",
    "  print(f\"Job: {job}\")\n",
    "  if not dry_run:\n",
    "    kill_job(job)"
   ]
  }
 ],
 "metadata": {
  "kernelspec": {
   "display_name": "mlenv",
   "language": "python",
   "name": "python3"
  },
  "language_info": {
   "codemirror_mode": {
    "name": "ipython",
    "version": 3
   },
   "file_extension": ".py",
   "mimetype": "text/x-python",
   "name": "python",
   "nbconvert_exporter": "python",
   "pygments_lexer": "ipython3",
   "version": "3.9.16"
  },
  "orig_nbformat": 4
 },
 "nbformat": 4,
 "nbformat_minor": 2
}
