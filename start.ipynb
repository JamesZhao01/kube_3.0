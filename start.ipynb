{
 "cells": [
  {
   "cell_type": "code",
   "execution_count": 2,
   "metadata": {},
   "outputs": [],
   "source": [
    "import os, glob, re\n",
    "from pathlib import Path\n",
    "from dotenv import load_dotenv\n",
    "from string import Template\n",
    "from subprocess import Popen, PIPE\n",
    "\n",
    "load_dotenv();\n",
    "assert(os.getenv(\"PAT\"))"
   ]
  },
  {
   "cell_type": "code",
   "execution_count": 3,
   "metadata": {},
   "outputs": [
    {
     "name": "stdout",
     "output_type": "stream",
     "text": [
      "['j-autoworker-0                             0/1           17m        17m']\n",
      "Number of active jobs: 0\n"
     ]
    }
   ],
   "source": [
    "def count_active_jobs():\n",
    "  cmd = \"kubectl get jobs\"\n",
    "  stream = os.popen(cmd)\n",
    "  output = stream.read()\n",
    "  splits = filter(lambda x : re.search(\"^j-autoworker-\", x), output.split(\"\\n\"))\n",
    "  print(list(splits))\n",
    "  return len(list(splits))\n",
    "print(f\"Number of active jobs: {count_active_jobs()}\")"
   ]
  },
  {
   "cell_type": "code",
   "execution_count": 4,
   "metadata": {},
   "outputs": [],
   "source": [
    "def create_job(yaml_data):\n",
    "  p = Popen([\"kubectl\", \"apply\", \"-f\", \"-\"], shell=True, stdout=PIPE, stderr=PIPE, stdin=PIPE)\n",
    "  output = p.communicate(input=bytes(yaml_data, encoding=\"utf-8\"))\n",
    "  output = [line.decode() for line in output if line]\n",
    "  return output"
   ]
  },
  {
   "cell_type": "code",
   "execution_count": 5,
   "metadata": {},
   "outputs": [
    {
     "name": "stdout",
     "output_type": "stream",
     "text": [
      "===py_template.yml===\n",
      "\t ['job.batch/j-autoworker-0 created\\n']\n",
      "===py_template.yml===\n",
      "\t ['job.batch/j-autoworker-1 created\\n']\n",
      "===py_template.yml===\n",
      "\t ['job.batch/j-autoworker-2 created\\n']\n"
     ]
    }
   ],
   "source": [
    "configs_path = \"smart4.5/configs/clip/*\"\n",
    "template_path = \"py_template.yml\"\n",
    "pat = os.getenv(\"PAT\")\n",
    "dry_run = False\n",
    "\n",
    "for i, path in enumerate(glob.glob(configs_path)):\n",
    "  path = Path(path)\n",
    "  path_small = Path(*path.parts[1:])\n",
    "  if dry_run:\n",
    "    print(\"dry_run\", path)\n",
    "  else:\n",
    "    with open(template_path, \"r\") as f:\n",
    "      contents = f.read()\n",
    "      template = Template(contents)\n",
    "      template = template.safe_substitute(pat=pat, config=path_small.as_posix(), i=i)\n",
    "      output = create_job(template)\n",
    "      print(f\"==={template_path}===\")\n",
    "      # print(template)\n",
    "      print(\"\\t\", output)\n",
    "      "
   ]
  }
 ],
 "metadata": {
  "kernelspec": {
   "display_name": "mlenv",
   "language": "python",
   "name": "python3"
  },
  "language_info": {
   "codemirror_mode": {
    "name": "ipython",
    "version": 3
   },
   "file_extension": ".py",
   "mimetype": "text/x-python",
   "name": "python",
   "nbconvert_exporter": "python",
   "pygments_lexer": "ipython3",
   "version": "3.11.3"
  },
  "orig_nbformat": 4
 },
 "nbformat": 4,
 "nbformat_minor": 2
}
